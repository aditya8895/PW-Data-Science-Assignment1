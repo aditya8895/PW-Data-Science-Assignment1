{
 "cells": [
  {
   "cell_type": "markdown",
   "id": "7b66941a",
   "metadata": {},
   "source": [
    "Q1. Create one variable containing following type of data: \n",
    "(i) string \n",
    "(ii) list \n",
    "(iii) float \n",
    "(iv) tuple \n"
   ]
  },
  {
   "cell_type": "code",
   "execution_count": 35,
   "id": "a0203fad",
   "metadata": {},
   "outputs": [],
   "source": [
    "string = \"Aditya Raj\"\n",
    "list1 = [1,2,3,4, \"name\", 2.35]\n",
    "float = 2.548\n",
    "tuple ={9,8,7,4,5,6}"
   ]
  },
  {
   "cell_type": "code",
   "execution_count": 36,
   "id": "425db975",
   "metadata": {},
   "outputs": [
    {
     "data": {
      "text/plain": [
       "'Aditya Raj'"
      ]
     },
     "execution_count": 36,
     "metadata": {},
     "output_type": "execute_result"
    }
   ],
   "source": [
    "string"
   ]
  },
  {
   "cell_type": "code",
   "execution_count": 37,
   "id": "3dee287b",
   "metadata": {},
   "outputs": [
    {
     "data": {
      "text/plain": [
       "[1, 2, 3, 4, 'name', 2.35]"
      ]
     },
     "execution_count": 37,
     "metadata": {},
     "output_type": "execute_result"
    }
   ],
   "source": [
    "list1"
   ]
  },
  {
   "cell_type": "code",
   "execution_count": 11,
   "id": "e9b6f39f",
   "metadata": {},
   "outputs": [
    {
     "data": {
      "text/plain": [
       "[1, 2, 3, 4, 'name', 2.35]"
      ]
     },
     "execution_count": 11,
     "metadata": {},
     "output_type": "execute_result"
    }
   ],
   "source": [
    "float\n"
   ]
  },
  {
   "cell_type": "code",
   "execution_count": 12,
   "id": "e05616d7",
   "metadata": {},
   "outputs": [
    {
     "data": {
      "text/plain": [
       "{4, 5, 6, 7, 8, 9}"
      ]
     },
     "execution_count": 12,
     "metadata": {},
     "output_type": "execute_result"
    }
   ],
   "source": [
    "tuple"
   ]
  },
  {
   "cell_type": "markdown",
   "id": "ad311d36",
   "metadata": {},
   "source": [
    "Q2. Given are some following variables containing data: \n",
    "(i) var1 = ‘ ‘ \n",
    "(ii) var2 = ‘[ DS , ML , Python]’ \n",
    "(iii) var3 = [ ‘DS’ , ’ML’ , ‘Python’ ] \n",
    "(iv) var4 = 1. \n"
   ]
  },
  {
   "cell_type": "code",
   "execution_count": 15,
   "id": "9d89797a",
   "metadata": {},
   "outputs": [],
   "source": [
    "var1 = ''\n",
    "var2 = '[ DS , ML , Python]' \n",
    "var3 = [ \"DS\" , \"ML\" , \"Python\" ] \n",
    "var4 = 1 \n"
   ]
  },
  {
   "cell_type": "code",
   "execution_count": 17,
   "id": "b0e1f793",
   "metadata": {},
   "outputs": [
    {
     "data": {
      "text/plain": [
       "str"
      ]
     },
     "execution_count": 17,
     "metadata": {},
     "output_type": "execute_result"
    }
   ],
   "source": [
    "type(var1)\n"
   ]
  },
  {
   "cell_type": "code",
   "execution_count": 18,
   "id": "71ef074e",
   "metadata": {},
   "outputs": [
    {
     "data": {
      "text/plain": [
       "str"
      ]
     },
     "execution_count": 18,
     "metadata": {},
     "output_type": "execute_result"
    }
   ],
   "source": [
    "type(var2)"
   ]
  },
  {
   "cell_type": "code",
   "execution_count": 19,
   "id": "8e780c66",
   "metadata": {},
   "outputs": [
    {
     "data": {
      "text/plain": [
       "list"
      ]
     },
     "execution_count": 19,
     "metadata": {},
     "output_type": "execute_result"
    }
   ],
   "source": [
    "type(var3)"
   ]
  },
  {
   "cell_type": "code",
   "execution_count": 20,
   "id": "397e7076",
   "metadata": {},
   "outputs": [
    {
     "data": {
      "text/plain": [
       "int"
      ]
     },
     "execution_count": 20,
     "metadata": {},
     "output_type": "execute_result"
    }
   ],
   "source": [
    "type(var4)"
   ]
  },
  {
   "cell_type": "markdown",
   "id": "acac48fc",
   "metadata": {},
   "source": [
    "Q3. Explain the use of the following operators using an example: \n",
    "(i) / \n",
    "(ii) %  \n",
    "(iii) // \n",
    "(iv) ** \n"
   ]
  },
  {
   "cell_type": "code",
   "execution_count": 24,
   "id": "a5bd8281",
   "metadata": {},
   "outputs": [
    {
     "name": "stdout",
     "output_type": "stream",
     "text": [
      "2.0\n"
     ]
    }
   ],
   "source": [
    "# (1) / (Division Operator)\n",
    "#The / operator is used for division in Python. It performs regular division and returns a \n",
    "#floating-point result if at least one of the operands is a float.\n",
    "\n",
    "a = 10\n",
    "b = 5\n",
    "c = a/b\n",
    "print(c)"
   ]
  },
  {
   "cell_type": "code",
   "execution_count": 25,
   "id": "667f1fb7",
   "metadata": {},
   "outputs": [
    {
     "name": "stdout",
     "output_type": "stream",
     "text": [
      "50\n"
     ]
    }
   ],
   "source": [
    "# (2) % (Modulus operator)\n",
    "#The % operator is used for finding the remainder of a division operation. \n",
    "#It returns the remainder when the first operand is divided by the second operand.\n",
    "\n",
    "a = 10\n",
    "b = 5\n",
    "c = a*b\n",
    "print(c)"
   ]
  },
  {
   "cell_type": "code",
   "execution_count": 27,
   "id": "c5f69eaa",
   "metadata": {},
   "outputs": [
    {
     "name": "stdout",
     "output_type": "stream",
     "text": [
      "3\n"
     ]
    }
   ],
   "source": [
    "# (3) // (Floor Division Operator)\n",
    "#The // operator is used for floor division in Python. \n",
    "#It performs integer division and returns the largest integer less than or equal to the result.\n",
    "\n",
    "a = 7\n",
    "b = 2\n",
    "c = a//b\n",
    "print(c)"
   ]
  },
  {
   "cell_type": "code",
   "execution_count": 26,
   "id": "7b703330",
   "metadata": {},
   "outputs": [
    {
     "name": "stdout",
     "output_type": "stream",
     "text": [
      "32\n"
     ]
    }
   ],
   "source": [
    "# (4) ** (Exponentiation Operator)\n",
    "#The ** operator is used for exponentiation in Python. \n",
    "#It raises the first operand to the power of the second operand.\n",
    "\n",
    "\n",
    "a = 2\n",
    "b = 5\n",
    "c = a**b\n",
    "print(c)"
   ]
  },
  {
   "cell_type": "markdown",
   "id": "621d8bef",
   "metadata": {},
   "source": [
    "Q4. Create a list of length 10 of your choice containing multiple types of data. Using for loop print the  element and its data type. \n"
   ]
  },
  {
   "cell_type": "code",
   "execution_count": 28,
   "id": "bee955f0",
   "metadata": {},
   "outputs": [
    {
     "name": "stdout",
     "output_type": "stream",
     "text": [
      "<class 'int'>\n",
      "<class 'int'>\n",
      "<class 'int'>\n",
      "<class 'bool'>\n",
      "<class 'float'>\n",
      "<class 'str'>\n",
      "<class 'float'>\n",
      "<class 'float'>\n",
      "<class 'bool'>\n",
      "<class 'str'>\n"
     ]
    }
   ],
   "source": [
    "my_list = [1,2,3, False , 4.5,\"mango\", 2.1, 4.5, True, \"apple\"]\n",
    "for i in my_list:\n",
    "    print(type(i))"
   ]
  },
  {
   "cell_type": "markdown",
   "id": "e04e78ed",
   "metadata": {},
   "source": [
    "Q5. Using a while loop, verify if the number A is purely divisible by number B and if so then how many  times it can be divisible. "
   ]
  },
  {
   "cell_type": "code",
   "execution_count": 51,
   "id": "a07ed039",
   "metadata": {},
   "outputs": [
    {
     "name": "stdout",
     "output_type": "stream",
     "text": [
      "Enter the dividend (A): 64\n",
      "Enter the divisor (B): 2\n",
      "1.0 is purely divisible by 2, and it can be divided 6 times.\n"
     ]
    }
   ],
   "source": [
    "A = int(input(\"Enter the dividend (A): \"))\n",
    "B = int(input(\"Enter the divisor (B): \"))\n",
    "\n",
    "count = 0\n",
    "\n",
    "while A % B == 0:\n",
    "    A = A / B\n",
    "    count += 1\n",
    "\n",
    "# Check if A is purely divisible by B\n",
    "if A == 1:\n",
    "    print(f\"{A} is purely divisible by {B}, and it can be divided {count} times.\")\n",
    "else:\n",
    "    print(f\"{A} is not purely divisible by {B}.\")\n",
    "    print(f\"It can be divided {count} times before the remainder.\")\n",
    "\n"
   ]
  },
  {
   "cell_type": "markdown",
   "id": "ee14efbd",
   "metadata": {},
   "source": [
    "Q6. Create a list containing 25 int type data. Using for loop and if-else condition print if the element is  divisible by 3 or not."
   ]
  },
  {
   "cell_type": "code",
   "execution_count": 45,
   "id": "a750287c",
   "metadata": {},
   "outputs": [
    {
     "name": "stdout",
     "output_type": "stream",
     "text": [
      "12 is divisible by 3\n",
      "6 is divisible by 3\n",
      "8 is not divisible by 3\n",
      "15 is divisible by 3\n",
      "9 is divisible by 3\n",
      "10 is not divisible by 3\n",
      "27 is divisible by 3\n",
      "4 is not divisible by 3\n",
      "21 is divisible by 3\n",
      "30 is divisible by 3\n",
      "14 is not divisible by 3\n",
      "18 is divisible by 3\n",
      "7 is not divisible by 3\n",
      "5 is not divisible by 3\n",
      "22 is not divisible by 3\n",
      "33 is divisible by 3\n",
      "2 is not divisible by 3\n",
      "25 is not divisible by 3\n",
      "36 is divisible by 3\n",
      "11 is not divisible by 3\n",
      "42 is divisible by 3\n",
      "3 is divisible by 3\n",
      "16 is not divisible by 3\n",
      "20 is not divisible by 3\n",
      "24 is divisible by 3\n"
     ]
    }
   ],
   "source": [
    "# Create a list of 25 integers\n",
    "my_list = [12, 6, 8, 15, 9, 10, 27, 4, 21, 30, 14, 18, 7, 5, 22, 33, 2, 25, 36, 11, 42, 3, 16, 20, 24]\n",
    "\n",
    "# Iterate through the list and check if each element is divisible by 3\n",
    "for num in my_list:\n",
    "    if num % 3 == 0:\n",
    "        print(f\"{num} is divisible by 3\")\n",
    "    else:\n",
    "        print(f\"{num} is not divisible by 3\")\n"
   ]
  },
  {
   "cell_type": "markdown",
   "id": "d3e982eb",
   "metadata": {},
   "source": [
    " Q7. What do you understand about mutable and immutable data types? Give examples for both showing  this property."
   ]
  },
  {
   "cell_type": "code",
   "execution_count": 47,
   "id": "26668eb0",
   "metadata": {},
   "outputs": [
    {
     "name": "stdout",
     "output_type": "stream",
     "text": [
      "[1, 2, 3, 4]\n"
     ]
    }
   ],
   "source": [
    "#Mutable Data Types\n",
    "#Mutable data types are those whose values or content can be modified after they are created.\n",
    "#When you modify a mutable object, you are actually changing the original object, not creating a new one.\n",
    "#Examples of mutable data types in Python include lists, dictionaries, and sets.\n",
    "\n",
    "my_list = [1, 2, 3]\n",
    "my_list.append(4)  # Modifying the list by adding an element\n",
    "print(my_list)     # Output: [1, 2, 3, 4]\n"
   ]
  },
  {
   "cell_type": "code",
   "execution_count": 48,
   "id": "b1911149",
   "metadata": {},
   "outputs": [
    {
     "name": "stdout",
     "output_type": "stream",
     "text": [
      "5\n",
      "7\n"
     ]
    }
   ],
   "source": [
    "#Immutable data types\n",
    "#Immutable data types are those whose values cannot be changed after they are created.\n",
    "#When you modify an immutable object, you create a new object with the modified value, leaving the original object unchanged.\n",
    "#Examples of immutable data types in Python include integers, floats, strings, tuples, and frozensets.\n",
    "\n",
    "x = 5\n",
    "y = x + 2  # Creating a new integer with a modified value\n",
    "print(x)   # Output: 5 (x remains unchanged)\n",
    "print(y)   # Output: 7 (a new integer is created with the value 7)\n"
   ]
  },
  {
   "cell_type": "code",
   "execution_count": null,
   "id": "9f8373ea",
   "metadata": {},
   "outputs": [],
   "source": []
  }
 ],
 "metadata": {
  "kernelspec": {
   "display_name": "Python 3 (ipykernel)",
   "language": "python",
   "name": "python3"
  },
  "language_info": {
   "codemirror_mode": {
    "name": "ipython",
    "version": 3
   },
   "file_extension": ".py",
   "mimetype": "text/x-python",
   "name": "python",
   "nbconvert_exporter": "python",
   "pygments_lexer": "ipython3",
   "version": "3.9.7"
  }
 },
 "nbformat": 4,
 "nbformat_minor": 5
}
